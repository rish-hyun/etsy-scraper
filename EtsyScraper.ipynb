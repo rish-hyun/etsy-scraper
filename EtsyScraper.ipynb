{
  "cells": [
    {
      "cell_type": "code",
      "execution_count": null,
      "metadata": {
        "id": "d8i_s5cYwBHw"
      },
      "outputs": [],
      "source": [
        "!pip install selenium\n",
        "!apt-get update # to update ubuntu to correctly run apt install\n",
        "!apt install chromium-chromedriver\n",
        "!cp /usr/lib/chromium-browser/chromedriver /usr/bin\n"
      ]
    },
    {
      "cell_type": "code",
      "execution_count": null,
      "metadata": {
        "id": "yKStarDKws1k"
      },
      "outputs": [],
      "source": [
        "#import imutils\n",
        "#import time\n",
        "#import cv2\n",
        "#from google.colab.patches import cv2_imshow\n",
        "#cv2_imshow(imutils.url_to_image(item['src']))\n",
        "import sys\n",
        "import os\n",
        "import pandas as pd\n",
        "sys.path.insert(0,'/usr/lib/chromium-browser/chromedriver')\n",
        "\n",
        "from selenium import webdriver\n",
        "chrome_options = webdriver.ChromeOptions()\n",
        "chrome_options.add_argument('--headless')\n",
        "chrome_options.add_argument('--no-sandbox')\n",
        "chrome_options.add_argument('--disable-dev-shm-usage')\n",
        "driver = webdriver.Chrome('chromedriver',options=chrome_options)\n"
      ]
    },
    {
      "cell_type": "code",
      "execution_count": null,
      "metadata": {
        "id": "uvqLh_d-wvGS"
      },
      "outputs": [],
      "source": [
        "shop_name = '---x-Shop-Name-x---'\n",
        "\n",
        "#shop_directory = f'/content/drive/MyDrive/{shop_name}'\n",
        "shop_directory = f'/content/{shop_name}'\n",
        "if not os.path.exists(shop_directory):\n",
        "    os.makedirs(shop_directory)\n",
        "\n",
        "url = f'https://www.etsy.com/in-en/shop/{shop_name}'\n",
        "\n",
        "driver.get(url)\n"
      ]
    },
    {
      "cell_type": "code",
      "execution_count": null,
      "metadata": {
        "id": "JWypn0q4xBme"
      },
      "outputs": [],
      "source": [
        "#attrs = driver.execute_script('var items = {}; for (index = 0; index < arguments[0].attributes.length; ++index) { items[arguments[0].attributes[index].name] = arguments[0].attributes[index].value }; return items;', item.find_element_by_xpath('.//img'))\n",
        "#print(attrs)\n"
      ]
    },
    {
      "cell_type": "code",
      "execution_count": null,
      "metadata": {
        "id": "QlxgBmPczORY"
      },
      "outputs": [],
      "source": [
        "product_list_url = []\n",
        "total_pages = int(driver.find_elements_by_xpath('//a[@class=\"wt-action-group__item wt-btn wt-pr-xs-2 wt-pl-xs-2\"]')[-1].get_attribute('data-page'))\n",
        "\n",
        "for page_no in range(1,total_pages+1):\n",
        "  driver.get(f'https://www.etsy.com/in-en/shop/{shop_name}?page={page_no}')\n",
        "  for item in driver.find_elements_by_xpath('//div[@class=\"responsive-listing-grid wt-grid wt-grid--block justify-content-flex-start wt-mb-xs-3\"]//a'):\n",
        "    product_list_url.append(item.get_attribute('href').split('?')[0])\n"
      ]
    },
    {
      "cell_type": "code",
      "execution_count": null,
      "metadata": {
        "colab": {
          "base_uri": "https://localhost:8080/"
        },
        "id": "fXPklyUmFoY2",
        "outputId": "dfb3884f-b516-4c14-a63f-a08256d7bd59"
      },
      "outputs": [],
      "source": [
        "print(f'Total number of pages found : {total_pages}')\n",
        "print(f'Total number of items found : {len(product_list_url)}')\n"
      ]
    },
    {
      "cell_type": "code",
      "execution_count": null,
      "metadata": {
        "colab": {
          "base_uri": "https://localhost:8080/",
          "height": 1000
        },
        "id": "3aKBF4KvddKw",
        "outputId": "6bd3a7d9-ea74-4cf0-8fdb-2adb08912415"
      },
      "outputs": [],
      "source": [
        "data_cols = ['Link','ID','Title','Price','Highlights','Description','Order_Place','Order_Dispatch','Delivery_Date','Delivery_Cost']\n",
        "df = pd.DataFrame(columns=data_cols)\n",
        "img_res = '794xN' \n",
        "\n",
        "for link in product_list_url:\n",
        "  driver.get(link)\n",
        "\n",
        "  head = driver.find_element_by_xpath('//h1[@class=\"wt-text-body-01 wt-text-left-xs wt-line-height-tight wt-break-word wt-text-truncate--multi-line\"]')\n",
        "  dates = driver.find_elements_by_xpath('//p[@class=\"wt-mt-xs-2 wt-text-black wt-text-caption-title wt-line-height-tight\"]') or [driver.find_element_by_xpath('//p[@class=\"wt-text-body-03 wt-mt-xs-1 wt-line-height-tight\"]')]*3\n",
        "\n",
        "  data_list = [\n",
        "               link,\n",
        "               driver.current_url.split('/')[5],\n",
        "               head.text,\n",
        "               driver.find_element_by_xpath('//p[@class=\"wt-text-title-03 wt-mr-xs-2\"]').text,\n",
        "               [info.text for info in driver.find_elements_by_xpath('//ul[@class=\"wt-text-body-01  wt-pl-xs-0\"]//li')],\n",
        "               driver.find_element_by_xpath('//div[@data-id=\"description-text\"]').text,\n",
        "               dates[0].text,\n",
        "               dates[1].text,\n",
        "               dates[2].text,\n",
        "               driver.find_element_by_xpath('//div[@data-estimated-shipping]//p').text\n",
        "  ]\n",
        "\n",
        "  img_directory = f'{shop_directory}/items/{data_list[1]}/'\n",
        "  if not os.path.exists(img_directory):\n",
        "    os.makedirs(img_directory)\n",
        "\n",
        "    for img_link in driver.find_elements_by_xpath('//ul[@class=\"wt-list-unstyled wt-overflow-hidden wt-position-relative carousel-pane-list\"]//img'):\n",
        "      src = img_link.get_attribute('src')\n",
        "      !wget $src -P $img_directory\n",
        "\n",
        "  df.loc[len(df)] = data_list\n",
        "  pd.DataFrame([data_list],columns=data_cols).to_csv(f'{img_directory}/{data_list[1]}.csv', encoding='utf-8-sig')\n",
        "  df.to_csv(f'{shop_directory}/{shop_name}.csv', encoding='utf-8-sig')\n",
        "\n",
        "  print(f'{len(df)} entries are scraped')\n"
      ]
    },
    {
      "cell_type": "code",
      "execution_count": null,
      "metadata": {
        "id": "AAvtTasLmrb2"
      },
      "outputs": [],
      "source": []
    }
  ],
  "metadata": {
    "colab": {
      "collapsed_sections": [],
      "name": "EtsyScraper.ipynb",
      "provenance": []
    },
    "kernelspec": {
      "display_name": "Python 3",
      "name": "python3"
    },
    "language_info": {
      "name": "python"
    }
  },
  "nbformat": 4,
  "nbformat_minor": 0
}
